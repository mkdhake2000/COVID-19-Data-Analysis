{
 "cells": [
  {
   "cell_type": "markdown",
   "source": [
    "Importing neighbor-districts-modified.json file and extracting keys and values into lists"
   ],
   "metadata": {}
  },
  {
   "cell_type": "code",
   "execution_count": 1,
   "source": [
    "import pandas as pd\r\n",
    "import json\r\n",
    "with open('neighbor-districts-modified.json') as json_file:\r\n",
    "    data = json.load(json_file)\r\n",
    "dist_keys = list(data.keys())\r\n",
    "dist_values = list(data.values())\r\n",
    "lst=[]"
   ],
   "outputs": [],
   "metadata": {}
  },
  {
   "cell_type": "markdown",
   "source": [
    "Creating List of Neighbors"
   ],
   "metadata": {}
  },
  {
   "cell_type": "code",
   "execution_count": 2,
   "source": [
    "for i in dist_keys:\r\n",
    "    for j in dist_keys:\r\n",
    "        if j in data[i]:\r\n",
    "            s = j+','+i\r\n",
    "            if s not in lst:\r\n",
    "                lst.append(i+','+j)\r\n",
    "lst1=[0]*len(lst)\r\n",
    "lst2=[0]*len(lst)\r\n",
    "for i in range(len(lst)):\r\n",
    "    lst1[i] = lst[i].split(\",\")[0]\r\n",
    "    lst2[i] = lst[i].split(\",\")[1]"
   ],
   "outputs": [],
   "metadata": {}
  },
  {
   "cell_type": "markdown",
   "source": [
    "Creating edge-graph.csv file with districts and neighbors columns"
   ],
   "metadata": {}
  },
  {
   "cell_type": "code",
   "execution_count": 3,
   "source": [
    "neighbor_data = {'District':lst1,'Neighbor':lst2}\r\n",
    "neighbor_data_fin = pd.DataFrame(neighbor_data)\r\n",
    "neighbor_data_fin.to_csv('edge-graph.csv',index=False)"
   ],
   "outputs": [],
   "metadata": {}
  }
 ],
 "metadata": {
  "orig_nbformat": 4,
  "language_info": {
   "name": "python",
   "version": "3.7.3",
   "mimetype": "text/x-python",
   "codemirror_mode": {
    "name": "ipython",
    "version": 3
   },
   "pygments_lexer": "ipython3",
   "nbconvert_exporter": "python",
   "file_extension": ".py"
  },
  "kernelspec": {
   "name": "python3",
   "display_name": "Python 3.7.3 64-bit"
  },
  "interpreter": {
   "hash": "c80d797ad0c0f99ceecb07d53ac314bc1d62fa8729ade7f8a491ed15ddf8184a"
  }
 },
 "nbformat": 4,
 "nbformat_minor": 2
}